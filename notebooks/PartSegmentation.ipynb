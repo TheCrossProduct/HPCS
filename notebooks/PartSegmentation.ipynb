{
 "cells": [
  {
   "cell_type": "markdown",
   "metadata": {},
   "source": [
    "## Packages"
   ]
  },
  {
   "cell_type": "code",
   "execution_count": 1,
   "metadata": {},
   "outputs": [
    {
     "data": {
      "text/plain": [
       "0"
      ]
     },
     "execution_count": 1,
     "metadata": {},
     "output_type": "execute_result"
    }
   ],
   "source": [
    "import os, sys\n",
    "os.environ[\"DISPLAY\"] = \":1.0\"\n",
    "os.environ[\"PYVISTA_OFF_SCREEN\"]=\"true\"\n",
    "os.environ[\"PYVISTA_USE_PANEL\"]=\"true\"\n",
    "os.environ[\"PYVISTA_AUTO_CLOSE\"]=\"false\"\n",
    "os.system(\"Xvfb :1 -screen 0 1024x768x24 > /dev/null 2>&1 &\")"
   ]
  },
  {
   "cell_type": "code",
   "execution_count": 2,
   "metadata": {},
   "outputs": [],
   "source": [
    "from omegaconf import OmegaConf\n",
    "import pyvista as pv\n",
    "import torch\n",
    "import numpy as np"
   ]
  },
  {
   "cell_type": "code",
   "execution_count": 3,
   "metadata": {},
   "outputs": [],
   "source": [
    "DIR = \"C:\\\\Users\\\\olvcp\\\\3Dpointclouds\""
   ]
  },
  {
   "cell_type": "markdown",
   "metadata": {},
   "source": [
    "## Configuration"
   ]
  },
  {
   "cell_type": "code",
   "execution_count": 4,
   "metadata": {},
   "outputs": [],
   "source": [
    "#@title Configure the dataset {run: \"auto\"}\n",
    "CATEGORY = \"Airplane\" #@param [\"Airplane\", \"Bag\", \"All\", \"Motorbike\"] {allow-input: true}\n",
    "USE_NORMALS = True #@param {type:\"boolean\"}|"
   ]
  },
  {
   "cell_type": "code",
   "execution_count": 5,
   "metadata": {},
   "outputs": [],
   "source": [
    "shapenet_yaml = \"\"\"\n",
    "class: shapenet.ShapeNetDataset\n",
    "task: segmentation\n",
    "dataroot: %s\n",
    "normal: %r                                    # Use normal vectors as features\n",
    "first_subsampling: 0.02                       # Grid size of the input data\n",
    "pre_transforms:                               # Offline transforms, done only once\n",
    "    - transform: NormalizeScale           \n",
    "    - transform: GridSampling3D\n",
    "      params:\n",
    "        size: ${first_subsampling}\n",
    "train_transforms:                             # Data augmentation pipeline\n",
    "    - transform: RandomNoise\n",
    "      params:\n",
    "        sigma: 0.01\n",
    "        clip: 0.05\n",
    "    - transform: RandomScaleAnisotropic\n",
    "      params:\n",
    "        scales: [0.9,1.1]\n",
    "    - transform: AddOnes\n",
    "    - transform: AddFeatsByKeys\n",
    "      params:\n",
    "        list_add_to_x: [True]\n",
    "        feat_names: [\"ones\"]\n",
    "        delete_feats: [True]\n",
    "test_transforms:\n",
    "    - transform: AddOnes\n",
    "    - transform: AddFeatsByKeys\n",
    "      params:\n",
    "        list_add_to_x: [True]\n",
    "        feat_names: [\"ones\"]\n",
    "        delete_feats: [True]\n",
    "\"\"\" % (os.path.join(DIR,\"data\"), USE_NORMALS)\n",
    "\n",
    "from omegaconf import OmegaConf\n",
    "params = OmegaConf.create(shapenet_yaml)\n",
    "if CATEGORY != \"All\":\n",
    "    params.category = CATEGORY"
   ]
  },
  {
   "cell_type": "markdown",
   "metadata": {},
   "source": [
    "## Dataset"
   ]
  },
  {
   "cell_type": "code",
   "execution_count": 6,
   "metadata": {},
   "outputs": [
    {
     "data": {
      "text/plain": [
       "Dataset: ShapeNetDataset \n",
       "\u001b[0;95mtrain_pre_batch_collate_transform \u001b[0m= None\n",
       "\u001b[0;95mval_pre_batch_collate_transform \u001b[0m= None\n",
       "\u001b[0;95mtest_pre_batch_collate_transform \u001b[0m= None\n",
       "\u001b[0;95mpre_transform \u001b[0m= Compose([\n",
       "    NormalizeScale(),\n",
       "    GridSampling3D(grid_size=0.02, quantize_coords=False, mode=mean),\n",
       "])\n",
       "\u001b[0;95mtest_transform \u001b[0m= Compose([\n",
       "    AddOnes(),\n",
       "    AddFeatsByKeys(ones=True),\n",
       "])\n",
       "\u001b[0;95mtrain_transform \u001b[0m= Compose([\n",
       "    RandomNoise(sigma=0.01, clip=0.05),\n",
       "    RandomScaleAnisotropic([0.9, 1.1]),\n",
       "    AddOnes(),\n",
       "    AddFeatsByKeys(ones=True),\n",
       "])\n",
       "\u001b[0;95mval_transform \u001b[0m= None\n",
       "\u001b[0;95minference_transform \u001b[0m= Compose([\n",
       "    NormalizeScale(),\n",
       "    GridSampling3D(grid_size=0.02, quantize_coords=False, mode=mean),\n",
       "    AddOnes(),\n",
       "    AddFeatsByKeys(ones=True),\n",
       "])\n",
       "Size of \u001b[0;95mtrain_dataset \u001b[0m= 1958\n",
       "Size of \u001b[0;95mtest_dataset \u001b[0m= 341\n",
       "Size of \u001b[0;95mval_dataset \u001b[0m= 391\n",
       "\u001b[0;95mBatch size =\u001b[0m None"
      ]
     },
     "execution_count": 6,
     "metadata": {},
     "output_type": "execute_result"
    }
   ],
   "source": [
    "from torch_points3d.datasets.segmentation import ShapeNetDataset\n",
    "dataset = ShapeNetDataset(params)\n",
    "dataset"
   ]
  },
  {
   "cell_type": "code",
   "execution_count": 7,
   "metadata": {},
   "outputs": [
    {
     "name": "stderr",
     "output_type": "stream",
     "text": [
      "C:\\Users\\olvcp\\anaconda3\\envs\\pointclouds\\lib\\site-packages\\pyvista\\jupyter\\notebook.py:60: UserWarning: Failed to use notebook backend: \n",
      "\n",
      "DLL load failed while importing vtkIONetCDF: The specified procedure could not be found.\n",
      "\n",
      "Falling back to a static output.\n",
      "  warnings.warn(\n"
     ]
    },
    {
     "data": {
      "image/png": "[encoded data removed]",
      "text/plain": [
       "<PIL.Image.Image image mode=RGB size=1024x412>"
      ]
     },
     "metadata": {},
     "output_type": "display_data"
    }
   ],
   "source": [
    "#@title Plot samples with part annotations { run: \"auto\" }\n",
    "objectid_1 = 9 #@param {type:\"slider\", min:0, max:100, step:1}\n",
    "objectid_2 = 82 #@param {type:\"slider\", min:0, max:100, step:1}\n",
    "objectid_3 = 95 #@param {type:\"slider\", min:0, max:100, step:1}\n",
    "\n",
    "samples = [objectid_1, objectid_2, objectid_3]\n",
    "p = pv.Plotter(notebook=True,shape=(1, len(samples)),window_size=[1024,412])\n",
    "for i in range(len(samples)):\n",
    "    p.subplot(0, i)\n",
    "    sample = dataset.train_dataset[samples[i]]\n",
    "    point_cloud = pv.PolyData(sample.pos.numpy())\n",
    "    point_cloud['y'] = sample.y.numpy()\n",
    "    p.add_points(point_cloud,  show_scalar_bar=False, point_size=3)\n",
    "    p.camera_position = [-1,5, -10]\n",
    "p.show()"
   ]
  },
  {
   "cell_type": "markdown",
   "metadata": {},
   "source": [
    "## Segmentation"
   ]
  },
  {
   "cell_type": "code",
   "execution_count": 8,
   "metadata": {},
   "outputs": [],
   "source": [
    "from torch_points3d.core.common_modules import MLP, UnaryConv\n",
    "\n",
    "class MultiHeadClassifier(torch.nn.Module):\n",
    "    \"\"\" Allows segregated segmentation in case the category of an object is known. \n",
    "    This is the case in ShapeNet for example.\n",
    "\n",
    "    Parameters\n",
    "    ----------\n",
    "    in_features -\n",
    "        size of the input channel\n",
    "    cat_to_seg\n",
    "        category to segment maps for example:\n",
    "        {\n",
    "            'Airplane': [0,1,2],\n",
    "            'Table': [3,4]\n",
    "        }\n",
    "\n",
    "    \"\"\"\n",
    "\n",
    "    def __init__(self, in_features, cat_to_seg, dropout_proba=0.5, bn_momentum=0.1):\n",
    "        super().__init__()\n",
    "        self._cat_to_seg = {}\n",
    "        self._num_categories = len(cat_to_seg)\n",
    "        self._max_seg_count = 0\n",
    "        self._max_seg = 0\n",
    "        self._shifts = torch.zeros((self._num_categories,), dtype=torch.long)\n",
    "        for i, seg in enumerate(cat_to_seg.values()):\n",
    "            self._max_seg_count = max(self._max_seg_count, len(seg))\n",
    "            self._max_seg = max(self._max_seg, max(seg))\n",
    "            self._shifts[i] = min(seg)\n",
    "            self._cat_to_seg[i] = seg\n",
    "\n",
    "        self.channel_rasing = MLP(\n",
    "            [in_features, self._num_categories * in_features], bn_momentum=bn_momentum, bias=False\n",
    "        )\n",
    "        if dropout_proba:\n",
    "            self.channel_rasing.add_module(\"Dropout\", torch.nn.Dropout(p=dropout_proba))\n",
    "\n",
    "        self.classifier = UnaryConv((self._num_categories, in_features, self._max_seg_count))\n",
    "        self._bias = torch.nn.Parameter(torch.zeros(self._max_seg_count,))\n",
    "\n",
    "    def forward(self, features, category_labels, **kwargs):\n",
    "        assert features.dim() == 2\n",
    "        self._shifts = self._shifts.to(features.device)\n",
    "        in_dim = features.shape[-1]\n",
    "        features = self.channel_rasing(features)\n",
    "        features = features.reshape((-1, self._num_categories, in_dim))\n",
    "        features = features.transpose(0, 1)  # [num_categories, num_points, in_dim]\n",
    "        features = self.classifier(features) + self._bias  # [num_categories, num_points, max_seg]\n",
    "        ind = category_labels.unsqueeze(-1).repeat(1, 1, features.shape[-1]).long()\n",
    "\n",
    "        logits = features.gather(0, ind).squeeze(0)\n",
    "        softmax = torch.nn.functional.log_softmax(logits, dim=-1)\n",
    "\n",
    "        output = torch.zeros(logits.shape[0], self._max_seg + 1).to(features.device)\n",
    "        cats_in_batch = torch.unique(category_labels)\n",
    "        for cat in cats_in_batch:\n",
    "            cat_mask = category_labels == cat\n",
    "            seg_indices = self._cat_to_seg[cat.item()]\n",
    "            probs = softmax[cat_mask, : len(seg_indices)]\n",
    "            output[cat_mask, seg_indices[0] : seg_indices[-1] + 1] = probs\n",
    "        \n",
    "        return output"
   ]
  },
  {
   "cell_type": "code",
   "execution_count": 9,
   "metadata": {},
   "outputs": [],
   "source": [
    "from torch_points3d.applications.kpconv import KPConv\n",
    "\n",
    "\n",
    "class PartSegKPConv(torch.nn.Module):\n",
    "    def __init__(self, cat_to_seg):\n",
    "        super().__init__()\n",
    "        self.unet = KPConv(\n",
    "            architecture=\"unet\", \n",
    "            input_nc=USE_NORMALS * 3, \n",
    "            num_layers=4, \n",
    "            in_grid_size=0.02\n",
    "            )\n",
    "        self.classifier = MultiHeadClassifier(self.unet.output_nc, cat_to_seg)\n",
    "    \n",
    "    @property\n",
    "    def conv_type(self):\n",
    "        \"\"\" This is needed by the dataset to infer which batch collate should be used\"\"\"\n",
    "        return self.unet.conv_type\n",
    "    \n",
    "    def get_batch(self):\n",
    "        return self.batch\n",
    "    \n",
    "    def get_output(self):\n",
    "        \"\"\" This is needed by the tracker to get access to the ouputs of the network\"\"\"\n",
    "        return self.output\n",
    "    \n",
    "    def get_labels(self):\n",
    "        \"\"\" Needed by the tracker in order to access ground truth labels\"\"\"\n",
    "        return self.labels\n",
    "    \n",
    "    def get_current_losses(self):\n",
    "        \"\"\" Entry point for the tracker to grab the loss \"\"\"\n",
    "        return {\"loss_seg\": float(self.loss_seg)}\n",
    "\n",
    "    def forward(self, data):\n",
    "        self.labels = data.y\n",
    "        self.batch = data.batch\n",
    "        \n",
    "        # Forward through unet and classifier\n",
    "        data_features = self.unet(data)\n",
    "        self.output = self.classifier(data_features.x, data.category)\n",
    "\n",
    "         # Set loss for the backward pass\n",
    "        self.loss_seg = torch.nn.functional.nll_loss(self.output, self.labels)\n",
    "        return self.output\n",
    "\n",
    "    def get_spatial_ops(self):\n",
    "        return self.unet.get_spatial_ops()\n",
    "        \n",
    "    def backward(self):\n",
    "         self.loss_seg.backward() \n",
    "\n",
    "    "
   ]
  },
  {
   "cell_type": "code",
   "execution_count": 10,
   "metadata": {},
   "outputs": [],
   "source": [
    "model = PartSegKPConv(dataset.class_to_segments)"
   ]
  },
  {
   "cell_type": "markdown",
   "metadata": {},
   "source": [
    "## Dataloader"
   ]
  },
  {
   "cell_type": "code",
   "execution_count": 11,
   "metadata": {},
   "outputs": [],
   "source": [
    "NUM_WORKERS = 4\n",
    "BATCH_SIZE = 16\n",
    "dataset.create_dataloaders(\n",
    "    model,\n",
    "    batch_size=BATCH_SIZE, \n",
    "    num_workers=NUM_WORKERS, \n",
    "    shuffle=True, \n",
    "    precompute_multi_scale=True \n",
    "    )"
   ]
  },
  {
   "cell_type": "code",
   "execution_count": 12,
   "metadata": {},
   "outputs": [
    {
     "data": {
      "text/plain": [
       "['x',\n",
       " 'y',\n",
       " 'pos',\n",
       " 'multiscale',\n",
       " 'upsample',\n",
       " 'batch',\n",
       " 'category',\n",
       " 'grid_size',\n",
       " 'id_scan',\n",
       " 'origin_id',\n",
       " 'ptr']"
      ]
     },
     "execution_count": 12,
     "metadata": {},
     "output_type": "execute_result"
    }
   ],
   "source": [
    "sample = next(iter(dataset.train_dataloader))\n",
    "sample.keys"
   ]
  },
  {
   "cell_type": "code",
   "execution_count": 13,
   "metadata": {},
   "outputs": [
    {
     "data": {
      "text/plain": [
       "[Batch(batch=[34363], idx_neighboors=[34363, 25], pos=[34363, 3]),\n",
       " Batch(batch=[34363], idx_neighboors=[34363, 25], pos=[34363, 3]),\n",
       " Batch(batch=[19203], grid_size=[16], idx_neighboors=[19203, 25], pos=[19203, 3]),\n",
       " Batch(batch=[19203], idx_neighboors=[19203, 25], pos=[19203, 3]),\n",
       " Batch(batch=[5608], grid_size=[16], idx_neighboors=[5608, 25], pos=[5608, 3]),\n",
       " Batch(batch=[5608], idx_neighboors=[5608, 25], pos=[5608, 3]),\n",
       " Batch(batch=[1303], grid_size=[16], idx_neighboors=[1303, 25], pos=[1303, 3]),\n",
       " Batch(batch=[1303], idx_neighboors=[1303, 25], pos=[1303, 3]),\n",
       " Batch(batch=[335], grid_size=[16], idx_neighboors=[335, 25], pos=[335, 3]),\n",
       " Batch(batch=[335], idx_neighboors=[335, 25], pos=[335, 3])]"
      ]
     },
     "execution_count": 13,
     "metadata": {},
     "output_type": "execute_result"
    }
   ],
   "source": [
    "sample.multiscale"
   ]
  },
  {
   "cell_type": "markdown",
   "metadata": {},
   "source": [
    "## Downsampling"
   ]
  },
  {
   "cell_type": "code",
   "execution_count": 14,
   "metadata": {},
   "outputs": [
    {
     "data": {
      "image/png": "[encoded data removed]",
      "text/plain": [
       "<PIL.Image.Image image mode=RGB size=1024x256>"
      ]
     },
     "metadata": {},
     "output_type": "display_data"
    }
   ],
   "source": [
    "#@title Successive downsampling {run:\"auto\"}\n",
    "sample_in_batch = 0 #@param {type:\"slider\", min:0, max:5, step:1}\n",
    "ms_data = sample.multiscale \n",
    "num_downsize = int(len(ms_data) / 2)\n",
    "p = pv.Plotter(notebook=True,shape=(1, num_downsize),window_size=[1024,256])\n",
    "for i in range(0,num_downsize):\n",
    "    p.subplot(0, i)\n",
    "    pos = ms_data[2*i].pos[ms_data[2*i].batch == sample_in_batch].numpy()\n",
    "    point_cloud = pv.PolyData(pos)\n",
    "    point_cloud['y'] = pos[:,1]\n",
    "    p.add_points(point_cloud,  show_scalar_bar=False, point_size=3)\n",
    "    p.add_text(\"Layer {}\".format(i+1),font_size=10)\n",
    "    p.camera_position = [-1,5, -10]\n",
    "p.show()"
   ]
  },
  {
   "cell_type": "markdown",
   "metadata": {},
   "source": [
    "## Neighborhood"
   ]
  },
  {
   "cell_type": "code",
   "execution_count": 15,
   "metadata": {},
   "outputs": [
    {
     "data": {
      "image/png": "[encoded data removed]",
      "text/plain": [
       "<PIL.Image.Image image mode=RGB size=1024x412>"
      ]
     },
     "metadata": {},
     "output_type": "display_data"
    }
   ],
   "source": [
    "#@title Explore Neighborhood {run: \"auto\"}\n",
    "selected_layer = 7 #@param {type:\"slider\", min:1, max:9, step:1}\n",
    "sample_in_batch = 0 #@param {type:\"slider\", min:0, max:5, step:1}\n",
    "point1_id = 46 #@param {type:\"slider\", min:0, max:600, step:1}\n",
    "point2_id = 10 #@param {type:\"slider\", min:0, max:600, step:1}\n",
    "\n",
    "p = pv.Plotter(notebook=True,shape=(1, 2),window_size=[1024,412])\n",
    "\n",
    "# Selected layer\n",
    "p.subplot(0, 1)\n",
    "ms_data = sample.multiscale[selected_layer]\n",
    "pos = ms_data.pos[ms_data.batch == sample_in_batch].numpy()\n",
    "nei = ms_data.idx_neighboors[ms_data.batch == sample_in_batch]\n",
    "point_cloud = pv.PolyData(pos)\n",
    "p.add_points(point_cloud,  show_scalar_bar=False, point_size=3,opacity=0.3)\n",
    "p.add_points(pos[point1_id,:],  show_scalar_bar=False, point_size=7.0,color='red')\n",
    "p.add_points(pos[point2_id,:],  show_scalar_bar=False, point_size=7.0,color='green')\n",
    "p.camera_position = [-1,5, -10]\n",
    "\n",
    "# Previous layer\n",
    "p.subplot(0, 0)\n",
    "ms_data = sample.multiscale[selected_layer-1]\n",
    "pos = ms_data.pos[ms_data.batch == sample_in_batch].numpy()\n",
    "point_cloud = pv.PolyData(pos)\n",
    "p.add_points(point_cloud,  show_scalar_bar=False,point_size=3, opacity=0.3)\n",
    "nei_pos = ms_data.pos[nei[point1_id]].numpy()\n",
    "nei_pos = nei_pos[nei[point1_id] >= 0]\n",
    "p.add_points(nei_pos,  show_scalar_bar=False, point_size=3.0,color='red')\n",
    "nei_pos = ms_data.pos[nei[point2_id]].numpy()\n",
    "nei_pos = nei_pos[nei[point2_id] >= 0]\n",
    "p.add_points(nei_pos,  show_scalar_bar=False, point_size=3.0,color='green')\n",
    "p.camera_position = [-1,5, -10]\n",
    "\n",
    "p.show()"
   ]
  },
  {
   "cell_type": "markdown",
   "metadata": {},
   "source": [
    "## Training"
   ]
  },
  {
   "cell_type": "code",
   "execution_count": 16,
   "metadata": {},
   "outputs": [],
   "source": [
    "from tqdm.auto import tqdm\n",
    "import time\n",
    "\n",
    "class Trainer:\n",
    "    def __init__(self,model, dataset, num_epoch = 50, device=torch.device(\"cuda:0\" if torch.cuda.is_available() else \"cpu\")):\n",
    "        self.num_epoch = num_epoch\n",
    "        self._model = model\n",
    "        self._dataset=dataset\n",
    "        self.device = device\n",
    "\n",
    "    def fit(self):\n",
    "        self.optimizer = torch.optim.Adam(self._model.parameters(), lr=0.001)\n",
    "        self.tracker = self._dataset.get_tracker(False, True)\n",
    "\n",
    "        for i in range(self.num_epoch):\n",
    "            print(\"=========== EPOCH %i ===========\" % i)\n",
    "            time.sleep(0.5)\n",
    "            self.train_epoch()\n",
    "            self.tracker.publish(i)\n",
    "            self.test_epoch()\n",
    "            self.tracker.publish(i)\n",
    "\n",
    "    def train_epoch(self):\n",
    "        self._model.to(self.device)\n",
    "        self._model.train()\n",
    "        self.tracker.reset(\"train\")\n",
    "        train_loader = self._dataset.train_dataloader\n",
    "        iter_data_time = time.time()\n",
    "        with tqdm(train_loader) as tq_train_loader:\n",
    "            for i, data in enumerate(tq_train_loader):\n",
    "                t_data = time.time() - iter_data_time\n",
    "                iter_start_time = time.time()\n",
    "                self.optimizer.zero_grad()\n",
    "                data.to(self.device)\n",
    "                self._model.forward(data)\n",
    "                self._model.backward()\n",
    "                self.optimizer.step()\n",
    "                if i % 10 == 0:\n",
    "                    self.tracker.track(self._model)\n",
    "\n",
    "                tq_train_loader.set_postfix(\n",
    "                    **self.tracker.get_metrics(),\n",
    "                    data_loading=float(t_data),\n",
    "                    iteration=float(time.time() - iter_start_time),\n",
    "                )\n",
    "                iter_data_time = time.time()\n",
    "\n",
    "    def test_epoch(self):\n",
    "        self._model.to(self.device)\n",
    "        self._model.eval()\n",
    "        self.tracker.reset(\"test\")\n",
    "        test_loader = self._dataset.test_dataloaders[0]\n",
    "        iter_data_time = time.time()\n",
    "        with tqdm(test_loader) as tq_test_loader:\n",
    "            for i, data in enumerate(tq_test_loader):\n",
    "                t_data = time.time() - iter_data_time\n",
    "                iter_start_time = time.time()\n",
    "                data.to(self.device)\n",
    "                self._model.forward(data)           \n",
    "                self.tracker.track(self._model)\n",
    "\n",
    "                tq_test_loader.set_postfix(\n",
    "                    **self.tracker.get_metrics(),\n",
    "                    data_loading=float(t_data),\n",
    "                    iteration=float(time.time() - iter_start_time),\n",
    "                )\n",
    "                iter_data_time = time.time()"
   ]
  },
  {
   "cell_type": "code",
   "execution_count": 17,
   "metadata": {},
   "outputs": [],
   "source": [
    "trainer = Trainer(model, dataset)"
   ]
  },
  {
   "cell_type": "code",
   "execution_count": 18,
   "metadata": {},
   "outputs": [
    {
     "name": "stdout",
     "output_type": "stream",
     "text": [
      "=========== EPOCH 0 ===========\n"
     ]
    },
    {
     "data": {
      "application/vnd.jupyter.widget-view+json": {
       "model_id": "652ce849bee54202aac2db326172c9fa",
       "version_major": 2,
       "version_minor": 0
      },
      "text/plain": [
       "  0%|          | 0/123 [00:00<?, ?it/s]"
      ]
     },
     "metadata": {},
     "output_type": "display_data"
    },
    {
     "ename": "KeyboardInterrupt",
     "evalue": "",
     "output_type": "error",
     "traceback": [
      "\u001b[1;31m---------------------------------------------------------------------------\u001b[0m",
      "\u001b[1;31mKeyboardInterrupt\u001b[0m                         Traceback (most recent call last)",
      "Input \u001b[1;32mIn [18]\u001b[0m, in \u001b[0;36m<cell line: 1>\u001b[1;34m()\u001b[0m\n\u001b[1;32m----> 1\u001b[0m \u001b[43mtrainer\u001b[49m\u001b[38;5;241;43m.\u001b[39;49m\u001b[43mfit\u001b[49m\u001b[43m(\u001b[49m\u001b[43m)\u001b[49m\n",
      "Input \u001b[1;32mIn [16]\u001b[0m, in \u001b[0;36mTrainer.fit\u001b[1;34m(self)\u001b[0m\n\u001b[0;32m     16\u001b[0m \u001b[38;5;28mprint\u001b[39m(\u001b[38;5;124m\"\u001b[39m\u001b[38;5;124m=========== EPOCH \u001b[39m\u001b[38;5;132;01m%i\u001b[39;00m\u001b[38;5;124m ===========\u001b[39m\u001b[38;5;124m\"\u001b[39m \u001b[38;5;241m%\u001b[39m i)\n\u001b[0;32m     17\u001b[0m time\u001b[38;5;241m.\u001b[39msleep(\u001b[38;5;241m0.5\u001b[39m)\n\u001b[1;32m---> 18\u001b[0m \u001b[38;5;28;43mself\u001b[39;49m\u001b[38;5;241;43m.\u001b[39;49m\u001b[43mtrain_epoch\u001b[49m\u001b[43m(\u001b[49m\u001b[43m)\u001b[49m\n\u001b[0;32m     19\u001b[0m \u001b[38;5;28mself\u001b[39m\u001b[38;5;241m.\u001b[39mtracker\u001b[38;5;241m.\u001b[39mpublish(i)\n\u001b[0;32m     20\u001b[0m \u001b[38;5;28mself\u001b[39m\u001b[38;5;241m.\u001b[39mtest_epoch()\n",
      "Input \u001b[1;32mIn [16]\u001b[0m, in \u001b[0;36mTrainer.train_epoch\u001b[1;34m(self)\u001b[0m\n\u001b[0;32m     34\u001b[0m data\u001b[38;5;241m.\u001b[39mto(\u001b[38;5;28mself\u001b[39m\u001b[38;5;241m.\u001b[39mdevice)\n\u001b[0;32m     35\u001b[0m \u001b[38;5;28mself\u001b[39m\u001b[38;5;241m.\u001b[39m_model\u001b[38;5;241m.\u001b[39mforward(data)\n\u001b[1;32m---> 36\u001b[0m \u001b[38;5;28;43mself\u001b[39;49m\u001b[38;5;241;43m.\u001b[39;49m\u001b[43m_model\u001b[49m\u001b[38;5;241;43m.\u001b[39;49m\u001b[43mbackward\u001b[49m\u001b[43m(\u001b[49m\u001b[43m)\u001b[49m\n\u001b[0;32m     37\u001b[0m \u001b[38;5;28mself\u001b[39m\u001b[38;5;241m.\u001b[39moptimizer\u001b[38;5;241m.\u001b[39mstep()\n\u001b[0;32m     38\u001b[0m \u001b[38;5;28;01mif\u001b[39;00m i \u001b[38;5;241m%\u001b[39m \u001b[38;5;241m10\u001b[39m \u001b[38;5;241m==\u001b[39m \u001b[38;5;241m0\u001b[39m:\n",
      "Input \u001b[1;32mIn [9]\u001b[0m, in \u001b[0;36mPartSegKPConv.backward\u001b[1;34m(self)\u001b[0m\n\u001b[0;32m     50\u001b[0m \u001b[38;5;28;01mdef\u001b[39;00m \u001b[38;5;21mbackward\u001b[39m(\u001b[38;5;28mself\u001b[39m):\n\u001b[1;32m---> 51\u001b[0m      \u001b[38;5;28;43mself\u001b[39;49m\u001b[38;5;241;43m.\u001b[39;49m\u001b[43mloss_seg\u001b[49m\u001b[38;5;241;43m.\u001b[39;49m\u001b[43mbackward\u001b[49m\u001b[43m(\u001b[49m\u001b[43m)\u001b[49m\n",
      "File \u001b[1;32m~\\anaconda3\\envs\\pointclouds\\lib\\site-packages\\torch\\tensor.py:245\u001b[0m, in \u001b[0;36mTensor.backward\u001b[1;34m(self, gradient, retain_graph, create_graph, inputs)\u001b[0m\n\u001b[0;32m    236\u001b[0m \u001b[38;5;28;01mif\u001b[39;00m has_torch_function_unary(\u001b[38;5;28mself\u001b[39m):\n\u001b[0;32m    237\u001b[0m     \u001b[38;5;28;01mreturn\u001b[39;00m handle_torch_function(\n\u001b[0;32m    238\u001b[0m         Tensor\u001b[38;5;241m.\u001b[39mbackward,\n\u001b[0;32m    239\u001b[0m         (\u001b[38;5;28mself\u001b[39m,),\n\u001b[1;32m   (...)\u001b[0m\n\u001b[0;32m    243\u001b[0m         create_graph\u001b[38;5;241m=\u001b[39mcreate_graph,\n\u001b[0;32m    244\u001b[0m         inputs\u001b[38;5;241m=\u001b[39minputs)\n\u001b[1;32m--> 245\u001b[0m \u001b[43mtorch\u001b[49m\u001b[38;5;241;43m.\u001b[39;49m\u001b[43mautograd\u001b[49m\u001b[38;5;241;43m.\u001b[39;49m\u001b[43mbackward\u001b[49m\u001b[43m(\u001b[49m\u001b[38;5;28;43mself\u001b[39;49m\u001b[43m,\u001b[49m\u001b[43m \u001b[49m\u001b[43mgradient\u001b[49m\u001b[43m,\u001b[49m\u001b[43m \u001b[49m\u001b[43mretain_graph\u001b[49m\u001b[43m,\u001b[49m\u001b[43m \u001b[49m\u001b[43mcreate_graph\u001b[49m\u001b[43m,\u001b[49m\u001b[43m \u001b[49m\u001b[43minputs\u001b[49m\u001b[38;5;241;43m=\u001b[39;49m\u001b[43minputs\u001b[49m\u001b[43m)\u001b[49m\n",
      "File \u001b[1;32m~\\anaconda3\\envs\\pointclouds\\lib\\site-packages\\torch\\autograd\\__init__.py:145\u001b[0m, in \u001b[0;36mbackward\u001b[1;34m(tensors, grad_tensors, retain_graph, create_graph, grad_variables, inputs)\u001b[0m\n\u001b[0;32m    142\u001b[0m \u001b[38;5;28;01mif\u001b[39;00m retain_graph \u001b[38;5;129;01mis\u001b[39;00m \u001b[38;5;28;01mNone\u001b[39;00m:\n\u001b[0;32m    143\u001b[0m     retain_graph \u001b[38;5;241m=\u001b[39m create_graph\n\u001b[1;32m--> 145\u001b[0m \u001b[43mVariable\u001b[49m\u001b[38;5;241;43m.\u001b[39;49m\u001b[43m_execution_engine\u001b[49m\u001b[38;5;241;43m.\u001b[39;49m\u001b[43mrun_backward\u001b[49m\u001b[43m(\u001b[49m\n\u001b[0;32m    146\u001b[0m \u001b[43m    \u001b[49m\u001b[43mtensors\u001b[49m\u001b[43m,\u001b[49m\u001b[43m \u001b[49m\u001b[43mgrad_tensors_\u001b[49m\u001b[43m,\u001b[49m\u001b[43m \u001b[49m\u001b[43mretain_graph\u001b[49m\u001b[43m,\u001b[49m\u001b[43m \u001b[49m\u001b[43mcreate_graph\u001b[49m\u001b[43m,\u001b[49m\u001b[43m \u001b[49m\u001b[43minputs\u001b[49m\u001b[43m,\u001b[49m\n\u001b[0;32m    147\u001b[0m \u001b[43m    \u001b[49m\u001b[43mallow_unreachable\u001b[49m\u001b[38;5;241;43m=\u001b[39;49m\u001b[38;5;28;43;01mTrue\u001b[39;49;00m\u001b[43m,\u001b[49m\u001b[43m \u001b[49m\u001b[43maccumulate_grad\u001b[49m\u001b[38;5;241;43m=\u001b[39;49m\u001b[38;5;28;43;01mTrue\u001b[39;49;00m\u001b[43m)\u001b[49m\n",
      "\u001b[1;31mKeyboardInterrupt\u001b[0m: "
     ]
    }
   ],
   "source": [
    "trainer.fit()"
   ]
  }
 ],
 "metadata": {
  "kernelspec": {
   "display_name": "pointclouds",
   "language": "python",
   "name": "pointclouds"
  },
  "language_info": {
   "codemirror_mode": {
    "name": "ipython",
    "version": 3
   },
   "file_extension": ".py",
   "mimetype": "text/x-python",
   "name": "python",
   "nbconvert_exporter": "python",
   "pygments_lexer": "ipython3",
   "version": "3.8.13"
  }
 },
 "nbformat": 4,
 "nbformat_minor": 5
}
